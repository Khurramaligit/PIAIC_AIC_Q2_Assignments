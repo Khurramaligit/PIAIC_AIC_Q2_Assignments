{
 "cells": [
  {
   "cell_type": "markdown",
   "metadata": {},
   "source": [
    "# Assignment For Numpy"
   ]
  },
  {
   "cell_type": "markdown",
   "metadata": {},
   "source": [
    "## Diffculty Level : Beginner"
   ]
  },
  {
   "cell_type": "markdown",
   "metadata": {},
   "source": [
    "### 1. Import the numpy package under the name np"
   ]
  },
  {
   "cell_type": "code",
   "execution_count": 1,
   "metadata": {},
   "outputs": [],
   "source": [
    "import numpy as np"
   ]
  },
  {
   "cell_type": "markdown",
   "metadata": {},
   "source": [
    "### 2. Create a null vector of size 10"
   ]
  },
  {
   "cell_type": "code",
   "execution_count": 2,
   "metadata": {},
   "outputs": [
    {
     "name": "stdout",
     "output_type": "stream",
     "text": [
      "[0. 0. 0. 0. 0. 0. 0. 0. 0. 0.]\n"
     ]
    }
   ],
   "source": [
    "x = np.zeros(10)\n",
    "print(x)"
   ]
  },
  {
   "cell_type": "markdown",
   "metadata": {},
   "source": [
    "### 3. Create a vector with values ranging from 10 to 49"
   ]
  },
  {
   "cell_type": "code",
   "execution_count": 7,
   "metadata": {},
   "outputs": [
    {
     "name": "stdout",
     "output_type": "stream",
     "text": [
      "[10 11 12 13 14 15 16 17 18 19 20 21 22 23 24 25 26 27 28 29 30 31 32 33\n",
      " 34 35 36 37 38 39 40 41 42 43 44 45 46 47 48]\n",
      "[0 2 4 6 8]\n",
      "(5,)\n"
     ]
    }
   ],
   "source": [
    "y = np.arange(10,49)\n",
    "print(y)"
   ]
  },
  {
   "cell_type": "markdown",
   "metadata": {},
   "source": [
    "### 4. Find the shape of previous array in question 3"
   ]
  },
  {
   "cell_type": "code",
   "execution_count": 4,
   "metadata": {},
   "outputs": [
    {
     "name": "stdout",
     "output_type": "stream",
     "text": [
      "(39,)\n"
     ]
    }
   ],
   "source": [
    "print(y.shape) # return / count of no. elements in array 'y'"
   ]
  },
  {
   "cell_type": "markdown",
   "metadata": {},
   "source": [
    "### 5. Print the type of the previous array in question 3"
   ]
  },
  {
   "cell_type": "code",
   "execution_count": 8,
   "metadata": {},
   "outputs": [
    {
     "name": "stdout",
     "output_type": "stream",
     "text": [
      "<class 'numpy.ndarray'>\n"
     ]
    }
   ],
   "source": [
    "print(type(y))"
   ]
  },
  {
   "cell_type": "markdown",
   "metadata": {},
   "source": [
    "### 6. Print the numpy version and the configuration"
   ]
  },
  {
   "cell_type": "code",
   "execution_count": 9,
   "metadata": {},
   "outputs": [
    {
     "name": "stdout",
     "output_type": "stream",
     "text": [
      "NumPy Version\n",
      "1.18.1\n",
      "==============\n",
      "NumPy Configuration\n",
      "blas_mkl_info:\n",
      "    libraries = ['mkl_rt']\n",
      "    library_dirs = ['C:/Users/hp/anaconda3\\\\Library\\\\lib']\n",
      "    define_macros = [('SCIPY_MKL_H', None), ('HAVE_CBLAS', None)]\n",
      "    include_dirs = ['C:\\\\Program Files (x86)\\\\IntelSWTools\\\\compilers_and_libraries_2019.0.117\\\\windows\\\\mkl', 'C:\\\\Program Files (x86)\\\\IntelSWTools\\\\compilers_and_libraries_2019.0.117\\\\windows\\\\mkl\\\\include', 'C:\\\\Program Files (x86)\\\\IntelSWTools\\\\compilers_and_libraries_2019.0.117\\\\windows\\\\mkl\\\\lib', 'C:/Users/hp/anaconda3\\\\Library\\\\include']\n",
      "blas_opt_info:\n",
      "    libraries = ['mkl_rt']\n",
      "    library_dirs = ['C:/Users/hp/anaconda3\\\\Library\\\\lib']\n",
      "    define_macros = [('SCIPY_MKL_H', None), ('HAVE_CBLAS', None)]\n",
      "    include_dirs = ['C:\\\\Program Files (x86)\\\\IntelSWTools\\\\compilers_and_libraries_2019.0.117\\\\windows\\\\mkl', 'C:\\\\Program Files (x86)\\\\IntelSWTools\\\\compilers_and_libraries_2019.0.117\\\\windows\\\\mkl\\\\include', 'C:\\\\Program Files (x86)\\\\IntelSWTools\\\\compilers_and_libraries_2019.0.117\\\\windows\\\\mkl\\\\lib', 'C:/Users/hp/anaconda3\\\\Library\\\\include']\n",
      "lapack_mkl_info:\n",
      "    libraries = ['mkl_rt']\n",
      "    library_dirs = ['C:/Users/hp/anaconda3\\\\Library\\\\lib']\n",
      "    define_macros = [('SCIPY_MKL_H', None), ('HAVE_CBLAS', None)]\n",
      "    include_dirs = ['C:\\\\Program Files (x86)\\\\IntelSWTools\\\\compilers_and_libraries_2019.0.117\\\\windows\\\\mkl', 'C:\\\\Program Files (x86)\\\\IntelSWTools\\\\compilers_and_libraries_2019.0.117\\\\windows\\\\mkl\\\\include', 'C:\\\\Program Files (x86)\\\\IntelSWTools\\\\compilers_and_libraries_2019.0.117\\\\windows\\\\mkl\\\\lib', 'C:/Users/hp/anaconda3\\\\Library\\\\include']\n",
      "lapack_opt_info:\n",
      "    libraries = ['mkl_rt']\n",
      "    library_dirs = ['C:/Users/hp/anaconda3\\\\Library\\\\lib']\n",
      "    define_macros = [('SCIPY_MKL_H', None), ('HAVE_CBLAS', None)]\n",
      "    include_dirs = ['C:\\\\Program Files (x86)\\\\IntelSWTools\\\\compilers_and_libraries_2019.0.117\\\\windows\\\\mkl', 'C:\\\\Program Files (x86)\\\\IntelSWTools\\\\compilers_and_libraries_2019.0.117\\\\windows\\\\mkl\\\\include', 'C:\\\\Program Files (x86)\\\\IntelSWTools\\\\compilers_and_libraries_2019.0.117\\\\windows\\\\mkl\\\\lib', 'C:/Users/hp/anaconda3\\\\Library\\\\include']\n",
      "None\n"
     ]
    }
   ],
   "source": [
    "print(\"NumPy Version\")\n",
    "print(np.__version__)\n",
    "print(\"==============\")\n",
    "print(\"NumPy Configuration\")\n",
    "print(np.show_config())\n"
   ]
  },
  {
   "cell_type": "markdown",
   "metadata": {},
   "source": [
    "### 7. Print the dimension of the array in question 3"
   ]
  },
  {
   "cell_type": "code",
   "execution_count": 10,
   "metadata": {},
   "outputs": [
    {
     "name": "stdout",
     "output_type": "stream",
     "text": [
      "1\n"
     ]
    }
   ],
   "source": [
    "print(y.ndim)"
   ]
  },
  {
   "cell_type": "markdown",
   "metadata": {},
   "source": [
    "### 8. Create a boolean array with all the True values"
   ]
  },
  {
   "cell_type": "code",
   "execution_count": 12,
   "metadata": {},
   "outputs": [
    {
     "data": {
      "text/plain": [
       "array([[ True,  True],\n",
       "       [ True,  True]])"
      ]
     },
     "execution_count": 12,
     "metadata": {},
     "output_type": "execute_result"
    }
   ],
   "source": [
    "np.ones((2,2),dtype=bool)"
   ]
  },
  {
   "cell_type": "markdown",
   "metadata": {},
   "source": [
    "### 9. Create a two dimensional array"
   ]
  },
  {
   "cell_type": "code",
   "execution_count": 20,
   "metadata": {},
   "outputs": [
    {
     "data": {
      "text/plain": [
       "array([[ 0,  1,  2,  3,  4,  5],\n",
       "       [ 6,  7,  8,  9, 10, 11],\n",
       "       [12, 13, 14, 15, 16, 17],\n",
       "       [18, 19, 20, 21, 22, 23],\n",
       "       [24, 25, 26, 27, 28, 29]])"
      ]
     },
     "execution_count": 20,
     "metadata": {},
     "output_type": "execute_result"
    }
   ],
   "source": [
    "arr3 = np.arange(30).reshape(5,6)\n",
    "arr3"
   ]
  },
  {
   "cell_type": "markdown",
   "metadata": {},
   "source": [
    "### 10. Create a three dimensional array"
   ]
  },
  {
   "cell_type": "code",
   "execution_count": 26,
   "metadata": {},
   "outputs": [
    {
     "data": {
      "text/plain": [
       "array([[[ 0,  1,  2,  3,  4],\n",
       "        [ 5,  6,  7,  8,  9],\n",
       "        [10, 11, 12, 13, 14],\n",
       "        [15, 16, 17, 18, 19]],\n",
       "\n",
       "       [[20, 21, 22, 23, 24],\n",
       "        [25, 26, 27, 28, 29],\n",
       "        [30, 31, 32, 33, 34],\n",
       "        [35, 36, 37, 38, 39]]])"
      ]
     },
     "execution_count": 26,
     "metadata": {},
     "output_type": "execute_result"
    }
   ],
   "source": [
    "arr4 = np.arange(40).reshape(2,4,5) \n",
    "arr4"
   ]
  },
  {
   "cell_type": "markdown",
   "metadata": {},
   "source": [
    "## Diffculty Level : Easy"
   ]
  },
  {
   "cell_type": "markdown",
   "metadata": {},
   "source": [
    "### 1. Reverse a vector (first element becomes last)"
   ]
  },
  {
   "cell_type": "code",
   "execution_count": 3,
   "metadata": {},
   "outputs": [
    {
     "name": "stdout",
     "output_type": "stream",
     "text": [
      "Orignal Array\n",
      "=============\n",
      "[10 11 12 13 14 15 16 17 18 19]\n",
      "Reverse Array\n",
      "=============\n",
      "[19 18 17 16 15 14 13 12 11 10]\n"
     ]
    }
   ],
   "source": [
    "a = np.arange(10,20)\n",
    "print(\"Orignal Array\")\n",
    "print(\"=============\")\n",
    "print(a)\n",
    "print(\"Reverse Array\")\n",
    "print(\"=============\")\n",
    "a = a[::-1]\n",
    "print(a)"
   ]
  },
  {
   "cell_type": "markdown",
   "metadata": {},
   "source": [
    "### 2. Create a null vector of size 10 but the fifth value which is 1"
   ]
  },
  {
   "cell_type": "code",
   "execution_count": 4,
   "metadata": {},
   "outputs": [
    {
     "data": {
      "text/plain": [
       "array([0., 0., 0., 0., 1., 0., 0., 0., 0., 0.])"
      ]
     },
     "execution_count": 4,
     "metadata": {},
     "output_type": "execute_result"
    }
   ],
   "source": [
    "arr5 = np.zeros(10)\n",
    "arr5[4] = 1\n",
    "arr5"
   ]
  },
  {
   "cell_type": "markdown",
   "metadata": {},
   "source": [
    "### 3. Create a 3x3 identity matrix"
   ]
  },
  {
   "cell_type": "code",
   "execution_count": 5,
   "metadata": {},
   "outputs": [
    {
     "name": "stdout",
     "output_type": "stream",
     "text": [
      "3 * 3 Matrix\n",
      "============\n",
      "[[1. 0. 0.]\n",
      " [0. 1. 0.]\n",
      " [0. 0. 1.]]\n"
     ]
    }
   ],
   "source": [
    "arr6 = np.identity(3)\n",
    "print(\"3 * 3 Matrix\")\n",
    "print(\"============\")\n",
    "print(arr6)"
   ]
  },
  {
   "cell_type": "markdown",
   "metadata": {},
   "source": [
    "### arr = np.array([1, 2, 3, 4, 5])"
   ]
  },
  {
   "cell_type": "markdown",
   "metadata": {},
   "source": [
    "### 4. Convert the data type of the given array from int to float"
   ]
  },
  {
   "cell_type": "code",
   "execution_count": 6,
   "metadata": {},
   "outputs": [
    {
     "data": {
      "text/plain": [
       "array([1., 2., 3., 4., 5.])"
      ]
     },
     "execution_count": 6,
     "metadata": {},
     "output_type": "execute_result"
    }
   ],
   "source": [
    "newarr = np.array([1,2,3,4,5],dtype='float')\n",
    "newarr"
   ]
  },
  {
   "cell_type": "markdown",
   "metadata": {},
   "source": [
    "### arr1 = np.array([[1., 2., 3.],[4., 5., 6.]])  arr2 = np.array([[0., 4., 1.],[7., 2., 12.]])"
   ]
  },
  {
   "cell_type": "markdown",
   "metadata": {},
   "source": [
    "### 5. Multiply arr1 with arr2"
   ]
  },
  {
   "cell_type": "code",
   "execution_count": 164,
   "metadata": {},
   "outputs": [
    {
     "data": {
      "text/plain": [
       "array([[ 0.,  8.,  3.],\n",
       "       [28., 10., 72.]])"
      ]
     },
     "execution_count": 164,
     "metadata": {},
     "output_type": "execute_result"
    }
   ],
   "source": [
    "arr1 = np.array([[1., 2., 3.],[4., 5., 6.]])\n",
    "arr2 = np.array([[0., 4., 1.],[7., 2., 12.]]) \n",
    "\n",
    "newarr2 = arr1 * arr2\n",
    "\n",
    "newarr2"
   ]
  },
  {
   "cell_type": "markdown",
   "metadata": {},
   "source": [
    "### arr1 = np.array([[1., 2., 3.],[4., 5., 6.]])  arr2 = np.array([[0., 4., 1.],[7., 2., 12.]])"
   ]
  },
  {
   "cell_type": "markdown",
   "metadata": {},
   "source": [
    "### 6. Make an array by comparing both the arrays provided above"
   ]
  },
  {
   "cell_type": "code",
   "execution_count": 7,
   "metadata": {},
   "outputs": [
    {
     "name": "stdout",
     "output_type": "stream",
     "text": [
      "False\n"
     ]
    }
   ],
   "source": [
    "arr1 = np.array([[1., 2., 3.],[4., 5., 6.]])\n",
    "arr2 = np.array([[0., 4., 1.],[7., 2., 12.]])\n",
    "\n",
    "comparison = arr1 == arr2\n",
    "arr_comp = comparison.all()\n",
    "print(arr_comp)"
   ]
  },
  {
   "cell_type": "markdown",
   "metadata": {},
   "source": [
    "### 7. Extract all odd numbers from arr with values(0-9)"
   ]
  },
  {
   "cell_type": "code",
   "execution_count": 107,
   "metadata": {},
   "outputs": [
    {
     "name": "stdout",
     "output_type": "stream",
     "text": [
      "Original Array\n",
      "==============\n",
      "[0 1 2 3 4 5 6 7 8 9]\n",
      "Odd Numbers from array\n",
      "======================\n",
      "[1 3 5 7 9]\n"
     ]
    }
   ],
   "source": [
    "newarr4 = np.arange(10)\n",
    "\n",
    "print(\"Original Array\")\n",
    "print(\"==============\")\n",
    "print(newarr4)\n",
    "\n",
    "result = [] #create a empty list\n",
    "\n",
    "for i in newarr4:\n",
    "    if i % 2 != 0:\n",
    "        result.append(i)\n",
    "\n",
    "print(\"Odd Numbers from array\")\n",
    "print(\"======================\")\n",
    "print(np.array(result)) # convert list to array    \n",
    "        "
   ]
  },
  {
   "cell_type": "markdown",
   "metadata": {},
   "source": [
    "### 8. Replace all odd numbers to -1 from previous array"
   ]
  },
  {
   "cell_type": "code",
   "execution_count": 124,
   "metadata": {},
   "outputs": [
    {
     "name": "stdout",
     "output_type": "stream",
     "text": [
      "[-1 -1 -1 -1 -1]\n"
     ]
    }
   ],
   "source": [
    "a = np.array(result)\n",
    "a[a%2==1] = -1\n",
    "print(a)"
   ]
  },
  {
   "cell_type": "markdown",
   "metadata": {},
   "source": [
    "### arr = np.arange(10)"
   ]
  },
  {
   "cell_type": "markdown",
   "metadata": {},
   "source": [
    "### 9. Replace the values of indexes 5,6,7 and 8 to 12"
   ]
  },
  {
   "cell_type": "code",
   "execution_count": 163,
   "metadata": {},
   "outputs": [
    {
     "name": "stdout",
     "output_type": "stream",
     "text": [
      "[0 1 2 3 4 5 6 7 8 9]\n",
      "\n",
      "\n",
      "[ 0  1  2  3  4 12 12 12 12  9]\n"
     ]
    }
   ],
   "source": [
    "arr = np.arange(10)\n",
    "\n",
    "print(arr)\n",
    "\n",
    "arr[arr[arr > 5]-1] = 12\n",
    "print('\\n')\n",
    "print(arr)"
   ]
  },
  {
   "cell_type": "markdown",
   "metadata": {},
   "source": [
    "### 10. Create a 2d array with 1 on the border and 0 inside"
   ]
  },
  {
   "cell_type": "code",
   "execution_count": 143,
   "metadata": {},
   "outputs": [
    {
     "name": "stdout",
     "output_type": "stream",
     "text": [
      "Original Array\n",
      "==============\n",
      "[[1. 1. 1. 1. 1.]\n",
      " [1. 1. 1. 1. 1.]\n",
      " [1. 1. 1. 1. 1.]\n",
      " [1. 1. 1. 1. 1.]\n",
      " [1. 1. 1. 1. 1.]]\n",
      "1 on the border and 0 inside in the array\n",
      "[[1. 1. 1. 1. 1.]\n",
      " [1. 0. 0. 0. 1.]\n",
      " [1. 0. 0. 0. 1.]\n",
      " [1. 0. 0. 0. 1.]\n",
      " [1. 1. 1. 1. 1.]]\n"
     ]
    }
   ],
   "source": [
    "newarr7 = np.ones((5,5))\n",
    "\n",
    "print(\"Original Array\")\n",
    "print(\"==============\")\n",
    "print(newarr7)\n",
    "\n",
    "print(\"1 on the border and 0 inside in the array\")\n",
    "\n",
    "newarr7[1:-1,1:-1] = 0\n",
    "\n",
    "print(newarr7)\n"
   ]
  },
  {
   "cell_type": "markdown",
   "metadata": {},
   "source": [
    "## Difficulty Level Medium"
   ]
  },
  {
   "cell_type": "markdown",
   "metadata": {},
   "source": [
    "### arr2d = np.array([[1, 2, 3],[4, 5, 6], [7, 8, 9]])"
   ]
  },
  {
   "cell_type": "markdown",
   "metadata": {},
   "source": [
    "### 1. Replace the value 5 to 12"
   ]
  },
  {
   "cell_type": "code",
   "execution_count": 5,
   "metadata": {},
   "outputs": [
    {
     "data": {
      "text/plain": [
       "array([[ 1,  2,  3],\n",
       "       [ 4, 12,  6],\n",
       "       [ 7,  8,  9]])"
      ]
     },
     "execution_count": 5,
     "metadata": {},
     "output_type": "execute_result"
    }
   ],
   "source": [
    "arr2d = np.array([[1, 2, 3],[4, 5, 6], [7, 8, 9]])\n",
    "arr2d[1][1] = 12\n",
    "arr2d"
   ]
  },
  {
   "cell_type": "markdown",
   "metadata": {},
   "source": [
    "### arr3d = np.array([[[1, 2, 3], [4, 5, 6]], [[7, 8, 9], [10, 11, 12]]])"
   ]
  },
  {
   "cell_type": "markdown",
   "metadata": {},
   "source": [
    "### 2. Convert all the values of 1st array to 64"
   ]
  },
  {
   "cell_type": "code",
   "execution_count": 42,
   "metadata": {},
   "outputs": [
    {
     "data": {
      "text/plain": [
       "array([[[64, 64, 64],\n",
       "        [ 4,  5,  6]],\n",
       "\n",
       "       [[ 7,  8,  9],\n",
       "        [10, 11, 12]]])"
      ]
     },
     "execution_count": 42,
     "metadata": {},
     "output_type": "execute_result"
    }
   ],
   "source": [
    "arr3d = np.array([[[1, 2, 3], [4, 5, 6]], [[7, 8, 9], [10, 11, 12]]])\n",
    "\n",
    "arr3d[0][0] = 64\n",
    "\n",
    "arr3d"
   ]
  },
  {
   "cell_type": "markdown",
   "metadata": {},
   "source": [
    "### 3. Make a 2-Dimensional array with values 0-9 and slice out the first 1st 1-D array from it"
   ]
  },
  {
   "cell_type": "code",
   "execution_count": 147,
   "metadata": {},
   "outputs": [
    {
     "name": "stdout",
     "output_type": "stream",
     "text": [
      "Original Array\n",
      "==============\n",
      "[[0 1 2 3 4]\n",
      " [5 6 7 8 9]]\n",
      "After Slicing\n",
      "==============\n",
      "[1 2 3 4]\n",
      "[[5 6 7 8 9]]\n"
     ]
    }
   ],
   "source": [
    "arr2d = np.arange(10).reshape(2,5)\n",
    "print(\"Original Array\")\n",
    "print(\"==============\")\n",
    "print(arr2d)\n",
    "\n",
    "\n",
    "print(\"After Slicing\")\n",
    "print(\"==============\")\n",
    "x , y = arr2d[0,1:], arr2d[-1:]\n",
    "\n",
    "print(x)\n",
    "print(y)"
   ]
  },
  {
   "cell_type": "markdown",
   "metadata": {},
   "source": [
    "### 4. Make a 2-Dimensional array with values 0-9 and slice out the 2nd value from 2nd 1-D array from it"
   ]
  },
  {
   "cell_type": "code",
   "execution_count": 165,
   "metadata": {},
   "outputs": [
    {
     "name": "stdout",
     "output_type": "stream",
     "text": [
      "Original Array\n",
      "==============\n",
      "[[0 1 2 3 4]\n",
      " [5 6 7 8 9]]\n",
      "After Slicing\n",
      "==============\n",
      "[5 6 7 8 9]\n",
      "\n",
      "\n",
      "[[0 1 2 3 4]]\n"
     ]
    }
   ],
   "source": [
    "arr2d = np.arange(10).reshape(2,5)\n",
    "print(\"Original Array\")\n",
    "print(\"==============\")\n",
    "print(arr2d)\n",
    "\n",
    "print(\"After Slicing\")\n",
    "print(\"==============\")\n",
    "\n",
    "x, y = arr2d[1,0:], arr2d[:-1]\n",
    "\n",
    "print(x)\n",
    "print('\\n')\n",
    "print(y)"
   ]
  },
  {
   "cell_type": "markdown",
   "metadata": {},
   "source": [
    "### 5. Make a 2-Dimensional array with values 0-9 and slice out the third column but only the first two rows"
   ]
  },
  {
   "cell_type": "code",
   "execution_count": 331,
   "metadata": {},
   "outputs": [
    {
     "name": "stdout",
     "output_type": "stream",
     "text": [
      "Original Array\n",
      "==============\n",
      "[[0 1 2 3 4]\n",
      " [5 6 7 8 9]]\n"
     ]
    }
   ],
   "source": [
    "arr2d = np.arange(10).reshape(2,5)\n",
    "print(\"Original Array\")\n",
    "print(\"==============\")\n",
    "print(arr2d)\n",
    "\n",
    "#arr2d[:,0:-2:1]\n",
    "#arr2d[0][1]"
   ]
  },
  {
   "cell_type": "markdown",
   "metadata": {},
   "source": [
    "### 6. Create a 10x10 array with random values and find the minimum and maximum values"
   ]
  },
  {
   "cell_type": "code",
   "execution_count": 322,
   "metadata": {},
   "outputs": [
    {
     "name": "stdout",
     "output_type": "stream",
     "text": [
      "Original Array:\n",
      "[[0.96608113 0.96692652 0.02939447 0.21435051 0.70601558 0.82014074\n",
      "  0.21305886 0.43833942 0.55622593 0.3330844 ]\n",
      " [0.21541226 0.8586661  0.78458799 0.03790905 0.25719013 0.95623285\n",
      "  0.2464853  0.35724922 0.79983298 0.2900749 ]\n",
      " [0.10264806 0.7981456  0.16007462 0.37038831 0.40009633 0.64017062\n",
      "  0.2789812  0.07821657 0.84351719 0.78309221]\n",
      " [0.07723865 0.91050643 0.04214479 0.40118671 0.76208664 0.56732607\n",
      "  0.99835225 0.93811654 0.82490494 0.29104695]\n",
      " [0.42576524 0.09037018 0.24107618 0.76561994 0.79852741 0.93376408\n",
      "  0.61590372 0.95896936 0.47923866 0.05861868]\n",
      " [0.8141475  0.76391961 0.68298908 0.5859401  0.698005   0.74212266\n",
      "  0.73892733 0.70352918 0.87103702 0.44299619]\n",
      " [0.58122571 0.59799177 0.95038813 0.44966765 0.89567282 0.80813042\n",
      "  0.51420982 0.02907638 0.68761899 0.29139096]\n",
      " [0.67053066 0.94115059 0.72775179 0.54622161 0.50311533 0.47286522\n",
      "  0.42839753 0.7939595  0.96527331 0.34024336]\n",
      " [0.11301445 0.35593732 0.18509561 0.8623919  0.16117026 0.62966664\n",
      "  0.54763138 0.30508583 0.39529    0.46763368]\n",
      " [0.55029817 0.26871126 0.73452769 0.00935291 0.73129141 0.39480363\n",
      "  0.10498612 0.79097641 0.67139626 0.36043117]]\n",
      "Minimum and Maximum Values:\n",
      "0.009352906773868797 0.9983522488104064\n"
     ]
    }
   ],
   "source": [
    "x = np.random.random((10,10))\n",
    "print(\"Original Array:\")\n",
    "print(x) \n",
    "xmin, xmax = x.min(), x.max()\n",
    "print(\"Minimum and Maximum Values:\")\n",
    "print(xmin, xmax)"
   ]
  },
  {
   "cell_type": "markdown",
   "metadata": {},
   "source": [
    "### a = np.array([1,2,3,2,3,4,3,4,5,6]) b = np.array([7,2,10,2,7,4,9,4,9,8])"
   ]
  },
  {
   "cell_type": "markdown",
   "metadata": {},
   "source": [
    "### 7. Find the common items between a and b"
   ]
  },
  {
   "cell_type": "code",
   "execution_count": 325,
   "metadata": {},
   "outputs": [
    {
     "name": "stdout",
     "output_type": "stream",
     "text": [
      "Array # 1 :  [1 2 3 2 3 4 3 4 5 6]\n",
      "Array # 2 :  [ 7  2 10  2  7  4  9  4  9  8]\n",
      "Common Values :  [2 4]\n"
     ]
    }
   ],
   "source": [
    "a = np.array([1,2,3,2,3,4,3,4,5,6]) \n",
    "b = np.array([7,2,10,2,7,4,9,4,9,8])\n",
    "\n",
    "print(\"Array # 1 : \",a)\n",
    "print(\"Array # 2 : \",b)\n",
    "\n",
    "# use the np.intersect1d method\n",
    "c = np.intersect1d(a,b)\n",
    "\n",
    "print(\"Common Values : \",c)"
   ]
  },
  {
   "cell_type": "markdown",
   "metadata": {},
   "source": [
    "### a = np.array([1,2,3,2,3,4,3,4,5,6]) b = np.array([7,2,10,2,7,4,9,4,9,8])"
   ]
  },
  {
   "cell_type": "markdown",
   "metadata": {},
   "source": [
    "### 8. Find the positions where elements of a and b match"
   ]
  },
  {
   "cell_type": "code",
   "execution_count": 328,
   "metadata": {},
   "outputs": [
    {
     "data": {
      "text/plain": [
       "(array([1, 3, 5, 7], dtype=int64),)"
      ]
     },
     "execution_count": 328,
     "metadata": {},
     "output_type": "execute_result"
    }
   ],
   "source": [
    "a = np.array([1,2,3,2,3,4,3,4,5,6]) \n",
    "b = np.array([7,2,10,2,7,4,9,4,9,8])\n",
    "\n",
    "np.where(a==b)"
   ]
  },
  {
   "cell_type": "markdown",
   "metadata": {},
   "source": [
    "### names = np.array(['Bob', 'Joe', 'Will', 'Bob', 'Will', 'Joe', 'Joe']) data = np.random.randn(7, 4)"
   ]
  },
  {
   "cell_type": "markdown",
   "metadata": {},
   "source": [
    "### 9. Find all the values from array data where the values from array names are not equal to Will"
   ]
  },
  {
   "cell_type": "code",
   "execution_count": 17,
   "metadata": {},
   "outputs": [
    {
     "name": "stdout",
     "output_type": "stream",
     "text": [
      "names :  ['Bob' 'Joe' 'Will' 'Bob' 'Will' 'Joe' 'Joe']\n",
      "data :  [[-12  -5  -7  14]\n",
      " [ -3  10   0  11]\n",
      " [ -3   6   3  -1]\n",
      " [ 13 -12   1   1]\n",
      " [-14 -15  -1   3]\n",
      " [ -6  -4 -17  -7]\n",
      " [ -8   0  -5  14]]\n"
     ]
    },
    {
     "data": {
      "text/plain": [
       "array([[-12,  -5,  -7,  14],\n",
       "       [ -3,  10,   0,  11],\n",
       "       [ 13, -12,   1,   1],\n",
       "       [ -6,  -4, -17,  -7],\n",
       "       [ -8,   0,  -5,  14]])"
      ]
     },
     "execution_count": 17,
     "metadata": {},
     "output_type": "execute_result"
    }
   ],
   "source": [
    "names = np.array(['Bob', 'Joe', 'Will', 'Bob', 'Will', 'Joe', 'Joe']) \n",
    "data = np.array(np.random.randn(7, 4)*10,dtype='int')\n",
    "\n",
    "print(\"names : \",names)\n",
    "print(\"data : \",data)\n",
    "\n",
    "data[names != 'Will']"
   ]
  },
  {
   "cell_type": "markdown",
   "metadata": {},
   "source": [
    "### names = np.array(['Bob', 'Joe', 'Will', 'Bob', 'Will', 'Joe', 'Joe']) data = np.random.randn(7, 4)"
   ]
  },
  {
   "cell_type": "markdown",
   "metadata": {},
   "source": [
    "### 10. Find all the values from array data where the values from array names are not equal to Will and Joe"
   ]
  },
  {
   "cell_type": "code",
   "execution_count": 21,
   "metadata": {},
   "outputs": [
    {
     "name": "stdout",
     "output_type": "stream",
     "text": [
      "names :  ['Bob' 'Joe' 'Will' 'Bob' 'Will' 'Joe' 'Joe']\n",
      "data :  [[  4   6  -4  10]\n",
      " [  7  -2   6   7]\n",
      " [  7 -12   2   5]\n",
      " [ -5  21  -4   9]\n",
      " [-12  -6   7  -5]\n",
      " [-22  -3   7  -2]\n",
      " [  0   3  -6 -10]]\n"
     ]
    },
    {
     "data": {
      "text/plain": [
       "array([[ 4,  6, -4, 10],\n",
       "       [-5, 21, -4,  9]])"
      ]
     },
     "execution_count": 21,
     "metadata": {},
     "output_type": "execute_result"
    }
   ],
   "source": [
    "names = np.array(['Bob', 'Joe', 'Will', 'Bob', 'Will', 'Joe', 'Joe']) \n",
    "data = np.array(np.random.randn(7, 4)*10,dtype='int')\n",
    "\n",
    "print(\"names : \",names)\n",
    "print(\"data : \",data)\n",
    "\n",
    "mask = (names != 'Will') & (names != 'Joe')\n",
    "\n",
    "data[mask]"
   ]
  },
  {
   "cell_type": "markdown",
   "metadata": {},
   "source": [
    "## Difficulty Level Hard"
   ]
  },
  {
   "cell_type": "markdown",
   "metadata": {},
   "source": [
    "### 1. Create a 2D array of shape 5x3 to contain decimal numbers between 1 and 15"
   ]
  },
  {
   "cell_type": "code",
   "execution_count": 38,
   "metadata": {},
   "outputs": [
    {
     "data": {
      "text/plain": [
       "array([[ 1.,  2.,  3.],\n",
       "       [ 4.,  5.,  6.],\n",
       "       [ 7.,  8.,  9.],\n",
       "       [10., 11., 12.],\n",
       "       [13., 14., 15.]])"
      ]
     },
     "execution_count": 38,
     "metadata": {},
     "output_type": "execute_result"
    }
   ],
   "source": [
    "newarr = np.array(np.arange(1,16).reshape(5,3),dtype='float')\n",
    "\n",
    "newarr"
   ]
  },
  {
   "cell_type": "markdown",
   "metadata": {},
   "source": [
    "### 2. Create an array of shape (2, 2, 4) with decimal numbers between 1 to 16."
   ]
  },
  {
   "cell_type": "code",
   "execution_count": 39,
   "metadata": {},
   "outputs": [
    {
     "data": {
      "text/plain": [
       "array([[[ 1.,  2.,  3.,  4.],\n",
       "        [ 5.,  6.,  7.,  8.]],\n",
       "\n",
       "       [[ 9., 10., 11., 12.],\n",
       "        [13., 14., 15., 16.]]])"
      ]
     },
     "execution_count": 39,
     "metadata": {},
     "output_type": "execute_result"
    }
   ],
   "source": [
    "newarr1 = np.array(np.arange(1,17).reshape(2,2,4),dtype='float')\n",
    "\n",
    "newarr1"
   ]
  },
  {
   "cell_type": "markdown",
   "metadata": {},
   "source": [
    "### 3. Swap axes of the array you created in Question 32 (previous question)"
   ]
  },
  {
   "cell_type": "code",
   "execution_count": 46,
   "metadata": {},
   "outputs": [
    {
     "name": "stdout",
     "output_type": "stream",
     "text": [
      "Original Array\n",
      "=============\n",
      "[[[ 1.  2.  3.  4.]\n",
      "  [ 5.  6.  7.  8.]]\n",
      "\n",
      " [[ 9. 10. 11. 12.]\n",
      "  [13. 14. 15. 16.]]]\n",
      "\n",
      "\n",
      "After applying swap axes\n",
      "========================\n",
      "[[[ 1.  9.]\n",
      "  [ 5. 13.]]\n",
      "\n",
      " [[ 2. 10.]\n",
      "  [ 6. 14.]]\n",
      "\n",
      " [[ 3. 11.]\n",
      "  [ 7. 15.]]\n",
      "\n",
      " [[ 4. 12.]\n",
      "  [ 8. 16.]]]\n"
     ]
    }
   ],
   "source": [
    "print(\"Original Array\")\n",
    "print(\"=============\")\n",
    "print(newarr1)\n",
    "print ('\\n')\n",
    "print(\"After applying swap axes\")\n",
    "print(\"========================\")\n",
    "print (np.swapaxes(newarr1,0,2))"
   ]
  },
  {
   "cell_type": "markdown",
   "metadata": {},
   "source": [
    "### 4. Create an array of size 10, and find the square root of every element in the array, if the values less than 0.5, replace them with 0"
   ]
  },
  {
   "cell_type": "code",
   "execution_count": 64,
   "metadata": {},
   "outputs": [
    {
     "name": "stdout",
     "output_type": "stream",
     "text": [
      "Original Array\n",
      "==============\n",
      "[[0 1 2 3 4]\n",
      " [5 6 7 8 9]]\n",
      "\n",
      "\n",
      "Square root of every element\n",
      "============================\n",
      "[[0.         1.         1.41421356 1.73205081 2.        ]\n",
      " [2.23606798 2.44948974 2.64575131 2.82842712 3.        ]]\n",
      "\n",
      "\n",
      "After Apply where\n",
      "=================\n",
      "[[0.         1.         1.41421356 1.73205081 2.        ]\n",
      " [2.23606798 2.44948974 2.64575131 2.82842712 3.        ]]\n"
     ]
    }
   ],
   "source": [
    "x = np.arange(10).reshape(2,5)\n",
    "print(\"Original Array\")\n",
    "print(\"==============\")\n",
    "print(x)\n",
    "print('\\n')\n",
    "\n",
    "y = np.sqrt(x).reshape(2,5)\n",
    "print(\"Square root of every element\")\n",
    "print(\"============================\")\n",
    "print(y)\n",
    "print('\\n')\n",
    "\n",
    "print(\"After Apply where\")\n",
    "print(\"=================\")\n",
    "z = np.array(np.where(y<0.5,0,y)).reshape(2,5)\n",
    "print(z)"
   ]
  },
  {
   "cell_type": "markdown",
   "metadata": {},
   "source": [
    "### 5. Create two random arrays of range 12 and make an array with the maximum values between each element of the two arrays"
   ]
  },
  {
   "cell_type": "code",
   "execution_count": 76,
   "metadata": {},
   "outputs": [
    {
     "name": "stdout",
     "output_type": "stream",
     "text": [
      "Random Array # 1\n",
      "[ 0.84628578  2.11321878  0.65468047 -1.34531255 -0.43965269 -1.01368737\n",
      " -0.42686052  1.93498687  1.20027536  1.11953118  0.23296182  1.17626809]\n",
      "\n",
      "\n",
      "Random Array # 2\n",
      "[-1.16672473  0.4165175  -0.69222933 -1.27447093  0.19911865 -0.81807163\n",
      "  1.78953125 -2.08866981 -1.2724833   0.31526328 -0.31409408  0.95495304]\n",
      "\n",
      "\n",
      "Maximum Values between each element of the two array\n",
      "[ 0.84628578  2.11321878  0.65468047 -1.27447093  0.19911865 -0.81807163\n",
      "  1.78953125  1.93498687  1.20027536  1.11953118  0.23296182  1.17626809]\n"
     ]
    }
   ],
   "source": [
    "random1 = np.random.randn(12)\n",
    "\n",
    "print(\"Random Array # 1\")\n",
    "print(random1)\n",
    "\n",
    "print('\\n')\n",
    "\n",
    "random2 = np.random.randn(12)\n",
    "\n",
    "print(\"Random Array # 2\")\n",
    "print(random2)\n",
    "\n",
    "print('\\n')\n",
    "\n",
    "newrandom = np.maximum(random1,random2)\n",
    "5\n",
    "print(\"Maximum Values between each element of the two array\")\n",
    "print(newrandom)"
   ]
  },
  {
   "cell_type": "markdown",
   "metadata": {},
   "source": [
    "### names = np.array(['Bob', 'Joe', 'Will', 'Bob', 'Will', 'Joe', 'Joe'])"
   ]
  },
  {
   "cell_type": "markdown",
   "metadata": {},
   "source": [
    "### 6. Find the unique names and sort them out!"
   ]
  },
  {
   "cell_type": "code",
   "execution_count": 82,
   "metadata": {},
   "outputs": [
    {
     "name": "stdout",
     "output_type": "stream",
     "text": [
      "Original Array\n",
      "===============\n",
      "['Bob' 'Joe' 'Will' 'Bob' 'Will' 'Joe' 'Joe']\n",
      "\n",
      "\n",
      "Unique Values\n",
      "=============\n",
      "['Bob' 'Joe' 'Will']\n"
     ]
    }
   ],
   "source": [
    "names = np.array(['Bob', 'Joe', 'Will', 'Bob', 'Will', 'Joe', 'Joe'])\n",
    "\n",
    "print(\"Original Array\")\n",
    "print(\"===============\")\n",
    "print(names)\n",
    "print('\\n')\n",
    "unique = np.unique(names)\n",
    "\n",
    "unames = np.asarray((unique)).T\n",
    "print(\"Unique Values\")\n",
    "print(\"=============\")\n",
    "\n",
    "print(unames)"
   ]
  },
  {
   "cell_type": "markdown",
   "metadata": {},
   "source": [
    "### a = np.array([1,2,3,4,5]) b = np.array([5,6,7,8,9])"
   ]
  },
  {
   "cell_type": "markdown",
   "metadata": {},
   "source": [
    "### 7. From array a remove all items present in array b"
   ]
  },
  {
   "cell_type": "code",
   "execution_count": 88,
   "metadata": {},
   "outputs": [
    {
     "name": "stdout",
     "output_type": "stream",
     "text": [
      "[1 2 3 4 5]\n",
      "\n",
      "\n",
      "[5 6 7 8 9]\n",
      "\n",
      "\n",
      "[1 2 3 4]\n"
     ]
    }
   ],
   "source": [
    "a = np.array([1,2,3,4,5])\n",
    "print(a)\n",
    "print('\\n')\n",
    "b = np.array([5,6,7,8,9])\n",
    "print(b)\n",
    "print('\\n')\n",
    "c = np.setdiff1d(a,b)\n",
    "print(c)"
   ]
  },
  {
   "cell_type": "markdown",
   "metadata": {},
   "source": [
    "### 8. Following is the input NumPy array. delete column two and insert following new column in its place."
   ]
  },
  {
   "cell_type": "markdown",
   "metadata": {},
   "source": [
    "### sampleArray = numpy.array([[34,43,73],[82,22,12],[53,94,66]])"
   ]
  },
  {
   "cell_type": "markdown",
   "metadata": {},
   "source": [
    "### newColumn = numpy.array([[10,10,10]])"
   ]
  },
  {
   "cell_type": "code",
   "execution_count": 100,
   "metadata": {},
   "outputs": [
    {
     "name": "stdout",
     "output_type": "stream",
     "text": [
      "Original Array\n",
      "[[34 43 73]\n",
      " [82 22 12]\n",
      " [53 94 66]]\n",
      "\n",
      "\n",
      "New Column\n",
      "[[10 10 10]]\n",
      "\n",
      "\n",
      "After delete column two from original\n",
      "[[34 73]\n",
      " [82 12]\n",
      " [53 66]]\n",
      "\n",
      "\n",
      "Adding new column\n",
      "=================\n",
      "[[34 10 73]\n",
      " [82 10 12]\n",
      " [53 10 66]]\n"
     ]
    }
   ],
   "source": [
    "import numpy as numpy\n",
    "sampleArray = numpy.array([[34,43,73],[82,22,12],[53,94,66]])\n",
    "print(\"Original Array\")\n",
    "print(sampleArray)\n",
    "print('\\n')\n",
    "newColumn = numpy.array([[10,10,10]])\n",
    "print(\"New Column\")\n",
    "print(newColumn)\n",
    "print('\\n')\n",
    "\n",
    "sampleArray = numpy.delete(sampleArray,1,1)\n",
    "\n",
    "print(\"After delete column two from original\")\n",
    "print(sampleArray)\n",
    "print('\\n')\n",
    "\n",
    "sampleArray = np.insert(sampleArray,1,newColumn,axis=1)\n",
    "print(\"Adding new column\")\n",
    "print(\"=================\")\n",
    "print(sampleArray)\n"
   ]
  },
  {
   "cell_type": "markdown",
   "metadata": {},
   "source": [
    "### x = np.array([[1., 2., 3.], [4., 5., 6.]]) y = np.array([[6., 23.], [-1, 7], [8, 9]])"
   ]
  },
  {
   "cell_type": "markdown",
   "metadata": {},
   "source": [
    "### 9. Find the dot product of the above two matrix"
   ]
  },
  {
   "cell_type": "code",
   "execution_count": 103,
   "metadata": {},
   "outputs": [
    {
     "name": "stdout",
     "output_type": "stream",
     "text": [
      "[[1. 2. 3.]\n",
      " [4. 5. 6.]]\n",
      "\n",
      "\n",
      "[[ 6. 23.]\n",
      " [-1.  7.]\n",
      " [ 8.  9.]]\n",
      "\n",
      "\n",
      "[[ 28.  64.]\n",
      " [ 67. 181.]]\n"
     ]
    }
   ],
   "source": [
    "x = np.array([[1., 2., 3.], [4., 5., 6.]])\n",
    "print(x)\n",
    "print('\\n')\n",
    "y = np.array([[6., 23.], [-1, 7], [8, 9]])\n",
    "print(y)\n",
    "print('\\n')\n",
    "z = np.dot(x,y)\n",
    "print(z)"
   ]
  },
  {
   "cell_type": "markdown",
   "metadata": {},
   "source": [
    "### 10. Generate a matrix of 20 random values and find its cumulative sum"
   ]
  },
  {
   "cell_type": "code",
   "execution_count": 106,
   "metadata": {},
   "outputs": [
    {
     "name": "stdout",
     "output_type": "stream",
     "text": [
      "Original Array\n",
      "[-2.10607859 -0.12207874 -0.80525947  0.27703221  0.18480991 -1.21908795\n",
      "  0.47489114  1.93206902 -0.72183078  1.37579469 -0.42505892  1.01496325\n",
      "  1.10939428 -0.2643432  -0.01166653  0.79925343  0.68329467 -0.88992613\n",
      " -0.1558779   0.8772235 ]\n",
      "\n",
      "\n",
      "Cumulative Sum\n",
      "[-2.10607859 -2.22815732 -3.03341679 -2.75638458 -2.57157467 -3.79066262\n",
      " -3.31577148 -1.38370246 -2.10553324 -0.72973855 -1.15479748 -0.13983423\n",
      "  0.96956005  0.70521685  0.69355032  1.49280375  2.17609842  1.28617229\n",
      "  1.13029438  2.00751788]\n"
     ]
    }
   ],
   "source": [
    "a = np.random.randn(20)\n",
    "\n",
    "print(\"Original Array\")\n",
    "print(a)\n",
    "print('\\n')\n",
    "\n",
    "print(\"Cumulative Sum\")\n",
    "b = np.cumsum(a)\n",
    "print(b)"
   ]
  },
  {
   "cell_type": "code",
   "execution_count": null,
   "metadata": {},
   "outputs": [],
   "source": []
  }
 ],
 "metadata": {
  "kernelspec": {
   "display_name": "Python 3",
   "language": "python",
   "name": "python3"
  },
  "language_info": {
   "codemirror_mode": {
    "name": "ipython",
    "version": 3
   },
   "file_extension": ".py",
   "mimetype": "text/x-python",
   "name": "python",
   "nbconvert_exporter": "python",
   "pygments_lexer": "ipython3",
   "version": "3.7.6"
  }
 },
 "nbformat": 4,
 "nbformat_minor": 4
}
